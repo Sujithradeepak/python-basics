{
 "cells": [
  {
   "cell_type": "code",
   "execution_count": 1,
   "metadata": {},
   "outputs": [],
   "source": [
    "#complete description about datascience project \n"
   ]
  },
  {
   "cell_type": "code",
   "execution_count": 2,
   "metadata": {},
   "outputs": [],
   "source": [
    "#life cycle of data science project \n"
   ]
  },
  {
   "cell_type": "code",
   "execution_count": 3,
   "metadata": {},
   "outputs": [],
   "source": [
    "## step 1 : data gathering \n",
    "# data gathering can be done in 2 ways \n",
    "# ->  web scraaping\n",
    "# -> third party API'S -- ingestion tools retrive data  and store it in hadoop\n",
    "# -> big data engineering - "
   ]
  },
  {
   "cell_type": "code",
   "execution_count": 5,
   "metadata": {},
   "outputs": [],
   "source": [
    "## step 2 : feature engineering \n",
    "# to treat null values,\n",
    "# nan values,handle \n",
    "# imbalence dataset,\n",
    "# remove noise data\n",
    "# format the data to have correct number of features \n",
    "# clean the data (otheer types of noise)\n",
    "# normalization\n",
    "# handle categorigal dataset\n"
   ]
  },
  {
   "cell_type": "code",
   "execution_count": 6,
   "metadata": {},
   "outputs": [],
   "source": [
    " ## step3 :Feature selection( why do we do)\n",
    "## to remove few features which are not necessary for fitting up the model .which further increases the dimensions and cause lot of pressure to the model \n",
    "##  methods to find which features are important -- PEARSON CO-RELATION,HEATMAP,EXTRA TREE CLASSIFER\n"
   ]
  },
  {
   "cell_type": "code",
   "execution_count": 7,
   "metadata": {},
   "outputs": [],
   "source": [
    "## Model creation \n",
    "# select the riight model which is suitable for use case\n",
    "# hyper pararmeter tunning ,and hyperparameter optimization(training and testing data)"
   ]
  },
  {
   "cell_type": "code",
   "execution_count": 8,
   "metadata": {},
   "outputs": [],
   "source": [
    "# test the model\n",
    "# check model which gives high accuracy\n",
    "##### if model doesnt gives high accuracy repaet steps two and three (feature eng and feature selection)\n",
    "# confusion matrix\n",
    "# roc curve\n",
    "# precision and ranking d\n"
   ]
  },
  {
   "cell_type": "code",
   "execution_count": 9,
   "metadata": {},
   "outputs": [],
   "source": [
    "#  production and deployemnt \n",
    "# aws \n",
    "# azure\n",
    "# flask or django\n",
    "# or api's\n",
    "# monitor every 15 days - to check the accuracy "
   ]
  },
  {
   "cell_type": "code",
   "execution_count": 1,
   "metadata": {},
   "outputs": [],
   "source": [
    "##############################################how to find best models fro the use case ##################################"
   ]
  },
  {
   "cell_type": "code",
   "execution_count": 2,
   "metadata": {},
   "outputs": [],
   "source": [
    "# identify whether the problem is supervised or unsupervised \n",
    "# if its supervised we use two categories 1.classification 2.regression problems\n",
    "# classification problems- Algorithms\n",
    "## Logistic Regression\n",
    "## Decision tree algorithm\n",
    "## random forest\n",
    "## knn\n",
    "## support vector machine \n"
   ]
  },
  {
   "cell_type": "code",
   "execution_count": 3,
   "metadata": {},
   "outputs": [],
   "source": [
    "## step1: use data visiualication tool(seaborn or matplotlib to check which features are highly important)\n",
    "## use PAIRPLOT to view the visualization \n",
    "# it contains features in x asis and y axis\n",
    "# use sns.pairplot(df,hue = \"Target variable\")\n",
    "# case:1 by using logistic regression(y= mx+c) it cannot be used only for linear problems (it divides horizontally doesnt not fits for over lapping data)\n",
    "# by using logistic regression error rate is more "
   ]
  },
  {
   "cell_type": "code",
   "execution_count": 4,
   "metadata": {},
   "outputs": [],
   "source": [
    "# decisiontree,Random forest- can be used for non-linear problems for overlapping datasets but it take more take in training the datasets hence the error rate is high \n",
    "# decision tree is multiple nested if else loop "
   ]
  },
  {
   "cell_type": "code",
   "execution_count": 5,
   "metadata": {},
   "outputs": [],
   "source": [
    "# if there is more overlap use knn , since knn usess euclidean distance to find out the neighbors\n",
    "# knn finds the data similarity bassed on euclidean distance"
   ]
  },
  {
   "cell_type": "code",
   "execution_count": null,
   "metadata": {},
   "outputs": [],
   "source": [
    "###################################### important steps to impore programming skills################################################"
   ]
  }
 ],
 "metadata": {
  "kernelspec": {
   "display_name": "Python 3",
   "language": "python",
   "name": "python3"
  },
  "language_info": {
   "codemirror_mode": {
    "name": "ipython",
    "version": 3
   },
   "file_extension": ".py",
   "mimetype": "text/x-python",
   "name": "python",
   "nbconvert_exporter": "python",
   "pygments_lexer": "ipython3",
   "version": "3.7.4"
  }
 },
 "nbformat": 4,
 "nbformat_minor": 2
}
