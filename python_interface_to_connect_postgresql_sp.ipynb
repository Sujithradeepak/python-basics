{
 "cells": [
  {
   "cell_type": "code",
   "execution_count": null,
   "metadata": {},
   "outputs": [],
   "source": []
  },
  {
   "cell_type": "code",
   "execution_count": 32,
   "metadata": {},
   "outputs": [
    {
     "name": "stdout",
     "output_type": "stream",
     "text": [
      "[()]\n",
      "PostgreSQL connection is closed\n"
     ]
    }
   ],
   "source": [
    "import psycopg2\n",
    "from psycopg2 import Error\n",
    "try:\n",
    "   ps_connection = psycopg2.connect(user=\"petramai_uat\",\n",
    "                                  password=\"4AzM5q_FjE\",\n",
    "                                  host=\"petramai-uat-trgt.cu9bamjzuaw5.us-east-1.rds.amazonaws.com\",\n",
    "                                  port=\"5432\",\n",
    "                                  database=\"petramai_uat_trgt\")\n",
    "   cursor = ps_connection.cursor()\n",
    "   cursor.execute(\" select from rad.rptcustomersegmentresult(%s,%s);\",('02254cee-ff7b-483b-aaba-61ba688c5caa', 'SEGMENTATIONLIST'))\n",
    "   cursor.execute(\" select from rad.rptsetnextbestproduct();\")\n",
    "   result = cursor.fetchall()\n",
    "   print(result)\n",
    "except (Exception, psycopg2.DatabaseError) as error :\n",
    "    print (\"Error while connecting to PostgreSQL\", error)\n",
    "\n",
    "finally:\n",
    "    #closing database connection.\n",
    "    if(ps_connection):\n",
    "        cursor.close()\n",
    "        ps_connection.close()\n",
    "        print(\"PostgreSQL connection is closed\")"
   ]
  },
  {
   "cell_type": "code",
   "execution_count": null,
   "metadata": {},
   "outputs": [],
   "source": [
    "def target_db_connection():\n",
    "    hostname = \"petramai-uat-trgt.cu9bamjzuaw5.us-east-1.rds.amazonaws.com\"\n",
    "    portno = \"5432\"\n",
    "    dbname = \"petramai_uat_trgt\"\n",
    "    dbusername = \"petramai_uat\"\n",
    "    dbpassword = \"4AzM5q_FjE\"\n",
    "    conn = psycopg2.connect(host=hostname, port=portno, database=dbname, user=dbusername, password=dbpassword)\n",
    "    return conn"
   ]
  },
  {
   "cell_type": "code",
   "execution_count": null,
   "metadata": {},
   "outputs": [],
   "source": [
    "#prod\n",
    "import psycopg2\n",
    "from psycopg2 import Error\n",
    "try:\n",
    "   ps_connection = psycopg2.connect(user=\"petramai_rad\",\n",
    "                                  password=\"m1Auig_8vE\",\n",
    "                                  host=\"petramai-rad-trgt.cu9bamjzuaw5.us-east-1.rds.amazonaws.com\",\n",
    "                                  port=\"5432\",\n",
    "                                  database=\"petramai_rad_trgt\")\n",
    "   cursor = ps_connection.cursor()\n",
    "   cursor.execute(\" select from rad.rptcustomersegmentresult(%s,%s);\",('02254cee-ff7b-483b-aaba-61ba688c5caa', 'SEGMENTATIONLIST'))\n",
    "   cursor.execute(\" select from rad.rptsetnextbestproduct();\")\n",
    "   result = cursor.fetchall()\n",
    "   print(result)\n",
    "except (Exception, psycopg2.DatabaseError) as error :\n",
    "    print (\"Error while connecting to PostgreSQL\", error)\n",
    "\n",
    "finally:\n",
    "    #closing database connection.\n",
    "    if(ps_connection):\n",
    "        cursor.close()\n",
    "        ps_connection.close()\n",
    "        print(\"PostgreSQL connection is closed\")"
   ]
  },
  {
   "cell_type": "code",
   "execution_count": null,
   "metadata": {},
   "outputs": [],
   "source": [
    "def target_db_connection():\n",
    "    hostname = \"petramai-rad-trgt.cu9bamjzuaw5.us-east-1.rds.amazonaws.com\"\n",
    "    portno = \"5432\"\n",
    "    dbname = \"petramai_rad_trgt\"\n",
    "    dbusername = \"petramai_rad\"\n",
    "    dbpassword = \"m1Auig_8vE\"\n",
    "    conn = psycopg2.connect(host=hostname,port=portno,database=dbname, user=dbusername, password=dbpassword)\n",
    "    return conn"
   ]
  }
 ],
 "metadata": {
  "kernelspec": {
   "display_name": "Python 3",
   "language": "python",
   "name": "python3"
  },
  "language_info": {
   "codemirror_mode": {
    "name": "ipython",
    "version": 3
   },
   "file_extension": ".py",
   "mimetype": "text/x-python",
   "name": "python",
   "nbconvert_exporter": "python",
   "pygments_lexer": "ipython3",
   "version": "3.7.4"
  }
 },
 "nbformat": 4,
 "nbformat_minor": 2
}
