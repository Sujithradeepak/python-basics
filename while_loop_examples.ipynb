{
 "cells": [
  {
   "cell_type": "code",
   "execution_count": 22,
   "metadata": {},
   "outputs": [
    {
     "name": "stdout",
     "output_type": "stream",
     "text": [
      "the value of i is 4\n",
      "along with j value is  4\n",
      "along with j value is  5\n",
      "along with j value is  6\n",
      "along with j value is  7\n",
      "along with j value is  8\n",
      "along with j value is  9\n",
      "along with j value is  10\n",
      "the value of i is 5\n",
      "the value of i is 6\n",
      "the value of i is 7\n",
      "the value of i is 8\n",
      "the value of i is 9\n",
      "the value of i is 10\n"
     ]
    }
   ],
   "source": [
    "# while loops\n",
    "# nested while loops \n",
    "i = 4\n",
    "j = 4\n",
    "while i <= 10:\n",
    "    print(\"the value of i is\",i)\n",
    "    i = i+1 \n",
    "    while j <= 10:\n",
    "       print(\"along with j value is \", + j)\n",
    "       j = j+1\n",
    "    \n",
    "## runs the inner loop first and then exectues outer loop    "
   ]
  },
  {
   "cell_type": "code",
   "execution_count": 23,
   "metadata": {},
   "outputs": [],
   "source": [
    "#\n",
    "## if loops basic functions are generally known as CONDITIONAL STATEMENTS\n",
    "## if the statement is true the true block will gets executed , else the false statement will get executed "
   ]
  },
  {
   "cell_type": "code",
   "execution_count": 24,
   "metadata": {},
   "outputs": [],
   "source": [
    "# if condition: basic sytax\n",
    "#    { true block will be executed}\n",
    "# else \n",
    "#    {false block will be executed}"
   ]
  },
  {
   "cell_type": "code",
   "execution_count": 25,
   "metadata": {},
   "outputs": [
    {
     "name": "stdout",
     "output_type": "stream",
     "text": [
      "x is greater than y\n"
     ]
    }
   ],
   "source": [
    "# basic program\n",
    "x = 9\n",
    "y = 4\n",
    "if x < y:\n",
    "    print(\"y is greater than x\")\n",
    "else:\n",
    "    print(\"x is greater than y\")"
   ]
  },
  {
   "cell_type": "code",
   "execution_count": 26,
   "metadata": {},
   "outputs": [
    {
     "name": "stdout",
     "output_type": "stream",
     "text": [
      "the number is odd number\n"
     ]
    }
   ],
   "source": [
    "# program to find positive or negative number using nested if else loops\n",
    "num = -1\n",
    "if num > 0:\n",
    "   if num %2 == 0:\n",
    "        print(\"the number is positive and even number\")\n",
    "   else:\n",
    "        print(\"the number is odd number\")\n",
    "else:\n",
    "    print(\"the number is odd number\")"
   ]
  },
  {
   "cell_type": "code",
   "execution_count": 28,
   "metadata": {},
   "outputs": [
    {
     "name": "stdout",
     "output_type": "stream",
     "text": [
      "b is largetst and divisible by 2\n"
     ]
    }
   ],
   "source": [
    "# nested if f0r three numbers\n",
    "a= 10\n",
    "b = 20 \n",
    "c= 40 \n",
    "\n",
    "if a <b:\n",
    "   if a%2 ==0:\n",
    "        print(\"b is largetst and divisible by 2\")\n",
    "   else:\n",
    "        print(\"a is larget and not divisble by 2\")\n",
    "elif b <c:\n",
    "   if b%2 ==0:\n",
    "        print(\"c is largetst and divisible by 2\")\n",
    "   else:\n",
    "        print(\"b is larget and not divisble by 2\")\n",
    "elif c <a:\n",
    "   if c%2 ==0:\n",
    "        print(\"c is largetst and divisible by 2\")\n",
    "   else:\n",
    "        print(\"b is larget and not divisble by 2\")\n",
    "else:\n",
    "  print(\"a is greatest\")"
   ]
  },
  {
   "cell_type": "code",
   "execution_count": 29,
   "metadata": {},
   "outputs": [
    {
     "name": "stdout",
     "output_type": "stream",
     "text": [
      "the square root for followingnumbers is  4\n",
      "the square root for followingnumbers is  16\n",
      "the square root for followingnumbers is  36\n",
      "the square root for followingnumbers is  49\n",
      "the square root for followingnumbers is  64\n",
      "the square root for followingnumbers is  81\n",
      "the square root for followingnumbers is  0\n"
     ]
    }
   ],
   "source": [
    "## square  problem for numbers in the list \n",
    "\n",
    "sqroot = [2,4,6,7,8,9,0]\n",
    "sum_val = 0\n",
    "for values in sqroot:\n",
    "    num = values * values\n",
    "    sum_val = num \n",
    "    print(\"the square root for followingnumbers is \", + sum_val)"
   ]
  },
  {
   "cell_type": "code",
   "execution_count": 31,
   "metadata": {},
   "outputs": [
    {
     "name": "stdout",
     "output_type": "stream",
     "text": [
      "5.0\n"
     ]
    }
   ],
   "source": [
    "##square root for following numbers \n",
    "import math\n",
    "# # here we use math.sqr()(in bulit function in python )\n",
    "# sqre = 144,25,36,49,81,64,256]\n",
    "# sum = 0 \n",
    "# for items in sqre:\n",
    "sqre = 25\n",
    "num = math.sqrt(sqre)\n",
    "sum = num\n",
    "print(sum)\n"
   ]
  },
  {
   "cell_type": "code",
   "execution_count": 32,
   "metadata": {},
   "outputs": [
    {
     "name": "stdout",
     "output_type": "stream",
     "text": [
      "1\n",
      "3\n",
      "7\n",
      "13\n",
      "20\n",
      "28\n",
      "37\n"
     ]
    }
   ],
   "source": [
    "# incrementing in the list \n",
    "numbers = [1,2,4,6,7,8,9]\n",
    "sume = 0\n",
    "for i in numbers:\n",
    "    num = sume +i\n",
    "    sume = num\n",
    "    print(num)\n",
    "\n",
    "# total value in the list \n",
    "# not suppose to use loop hence it meant only for iterations \n"
   ]
  },
  {
   "cell_type": "code",
   "execution_count": 34,
   "metadata": {},
   "outputs": [
    {
     "ename": "TypeError",
     "evalue": "'float' object is not callable",
     "output_type": "error",
     "traceback": [
      "\u001b[1;31m---------------------------------------------------------------------------\u001b[0m",
      "\u001b[1;31mTypeError\u001b[0m                                 Traceback (most recent call last)",
      "\u001b[1;32m<ipython-input-34-ff389e1b2ec1>\u001b[0m in \u001b[0;36m<module>\u001b[1;34m\u001b[0m\n\u001b[0;32m      7\u001b[0m \u001b[1;31m# print(result_list)\u001b[0m\u001b[1;33m\u001b[0m\u001b[1;33m\u001b[0m\u001b[1;33m\u001b[0m\u001b[0m\n\u001b[0;32m      8\u001b[0m \u001b[1;31m#print(result_list[2])\u001b[0m\u001b[1;33m\u001b[0m\u001b[1;33m\u001b[0m\u001b[1;33m\u001b[0m\u001b[0m\n\u001b[1;32m----> 9\u001b[1;33m \u001b[1;32mif\u001b[0m \u001b[0msum\u001b[0m\u001b[1;33m(\u001b[0m\u001b[0mresult_list\u001b[0m\u001b[1;33m[\u001b[0m\u001b[1;36m0\u001b[0m\u001b[1;33m]\u001b[0m\u001b[1;33m.\u001b[0m\u001b[0mvalues\u001b[0m\u001b[1;33m(\u001b[0m\u001b[1;33m)\u001b[0m\u001b[1;33m)\u001b[0m \u001b[1;33m>\u001b[0m \u001b[1;36m500\u001b[0m\u001b[1;33m:\u001b[0m\u001b[1;33m\u001b[0m\u001b[1;33m\u001b[0m\u001b[0m\n\u001b[0m\u001b[0;32m     10\u001b[0m     \u001b[0mprint\u001b[0m\u001b[1;33m(\u001b[0m\u001b[1;34m\"1st combination\"\u001b[0m\u001b[1;33m)\u001b[0m\u001b[1;33m\u001b[0m\u001b[1;33m\u001b[0m\u001b[0m\n\u001b[0;32m     11\u001b[0m \u001b[1;32melif\u001b[0m \u001b[0msum\u001b[0m\u001b[1;33m(\u001b[0m\u001b[0mresult_list\u001b[0m\u001b[1;33m[\u001b[0m\u001b[1;36m1\u001b[0m\u001b[1;33m]\u001b[0m\u001b[1;33m.\u001b[0m\u001b[0mvalues\u001b[0m\u001b[1;33m(\u001b[0m\u001b[1;33m)\u001b[0m\u001b[1;33m)\u001b[0m \u001b[1;33m>\u001b[0m \u001b[1;36m400\u001b[0m\u001b[1;33m:\u001b[0m\u001b[1;33m\u001b[0m\u001b[1;33m\u001b[0m\u001b[0m\n",
      "\u001b[1;31mTypeError\u001b[0m: 'float' object is not callable"
     ]
    }
   ],
   "source": [
    "## finding combinations of dict an and suming up the values \n",
    "import itertools\n",
    "sum_al = 0\n",
    "set_dict = {\"book1\": 200 ,\"book2\":300,\"book3\" : 400}\n",
    "result_list = list(map(dict, itertools.combinations(\n",
    "    set_dict.items(), 2)))\n",
    "# print(result_list)\n",
    "#print(result_list[2])\n",
    "if sum(result_list[0].values()) > 500:\n",
    "    print(\"1st combination\")\n",
    "elif sum(result_list[1].values()) > 400:\n",
    "    print(\"2nd combination\")\n",
    "elif sum(result_list[2].values()) > 800:\n",
    "    print(\"3rd combination\")\n",
    "else:\n",
    "    print(\"invalid\")"
   ]
  },
  {
   "cell_type": "code",
   "execution_count": 35,
   "metadata": {},
   "outputs": [],
   "source": [
    "## finding the range and mke two lists\n",
    "even = [] ## craeting empty list to appened  even numbersinto one list and odd numbers into another list\n",
    "odd = []\n",
    "for i in range(0,101):\n",
    "    if i%2 == 0:\n",
    "       even.append(i)\n",
    "       #print(type(even))\n",
    "        \n",
    "    else:\n",
    "       odd.append(i)\n",
    "       #print(type(odd))\n",
    "        \n",
    "    \n",
    "        "
   ]
  },
  {
   "cell_type": "code",
   "execution_count": 36,
   "metadata": {},
   "outputs": [
    {
     "name": "stdout",
     "output_type": "stream",
     "text": [
      "enter the list:234\n",
      "<class 'list'>\n",
      "enter the number in the list3\n",
      "[]\n"
     ]
    }
   ],
   "source": [
    "###################### under process############### getting input from the user and seraching it through the list and deleting that in the list and make iteration\n",
    "#(* to be checked)\n",
    "raw_list = input(\"enter the list:\")\n",
    "raw_list = raw_list.split(', ')\n",
    "print(type(raw_list))\n",
    "raw_list2 = input(\"enter the number in the list\")\n",
    "raw_list2 = raw_list2.split()\n",
    "a = [raw_list for raw_list2 in raw_list if raw_list2 not in raw_list]\n",
    "print(a)\n",
    "# print(type(aw_list2))\n",
    "# for values in raw_list:\n",
    "#     if values in raw_list2:\n",
    "#         print(\"present\")\n",
    "#     else:\n",
    "#         print(\"not present\")"
   ]
  },
  {
   "cell_type": "code",
   "execution_count": null,
   "metadata": {},
   "outputs": [],
   "source": []
  }
 ],
 "metadata": {
  "kernelspec": {
   "display_name": "Python 3",
   "language": "python",
   "name": "python3"
  },
  "language_info": {
   "codemirror_mode": {
    "name": "ipython",
    "version": 3
   },
   "file_extension": ".py",
   "mimetype": "text/x-python",
   "name": "python",
   "nbconvert_exporter": "python",
   "pygments_lexer": "ipython3",
   "version": "3.7.4"
  }
 },
 "nbformat": 4,
 "nbformat_minor": 2
}
