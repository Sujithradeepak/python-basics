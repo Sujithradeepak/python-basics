{
 "cells": [
  {
   "cell_type": "code",
   "execution_count": 1,
   "metadata": {},
   "outputs": [],
   "source": [
    "#pandas \n",
    "# backbone for exploratory data analysis "
   ]
  },
  {
   "cell_type": "code",
   "execution_count": 2,
   "metadata": {},
   "outputs": [],
   "source": [
    "#steps to import pandas\n",
    "import pandas as pd "
   ]
  },
  {
   "cell_type": "code",
   "execution_count": 27,
   "metadata": {},
   "outputs": [],
   "source": [
    "# what is data structure ?\n",
    "# data tructure are two dimensional space , ie data are arraanged in tabluar fashion eg:rows and columns \n",
    "# to create a dataframe \n",
    "# three important things ,data,index,columns\n",
    "s = {'name': [1, 2], 'age': [3, 4]}"
   ]
  },
  {
   "cell_type": "code",
   "execution_count": 28,
   "metadata": {},
   "outputs": [],
   "source": [
    "s = pd.DataFrame(data=s,index=['row1','row2'])"
   ]
  },
  {
   "cell_type": "code",
   "execution_count": 30,
   "metadata": {},
   "outputs": [
    {
     "data": {
      "text/html": [
       "<div>\n",
       "<style scoped>\n",
       "    .dataframe tbody tr th:only-of-type {\n",
       "        vertical-align: middle;\n",
       "    }\n",
       "\n",
       "    .dataframe tbody tr th {\n",
       "        vertical-align: top;\n",
       "    }\n",
       "\n",
       "    .dataframe thead th {\n",
       "        text-align: right;\n",
       "    }\n",
       "</style>\n",
       "<table border=\"1\" class=\"dataframe\">\n",
       "  <thead>\n",
       "    <tr style=\"text-align: right;\">\n",
       "      <th></th>\n",
       "      <th>name</th>\n",
       "      <th>age</th>\n",
       "    </tr>\n",
       "  </thead>\n",
       "  <tbody>\n",
       "    <tr>\n",
       "      <td>row1</td>\n",
       "      <td>1</td>\n",
       "      <td>3</td>\n",
       "    </tr>\n",
       "    <tr>\n",
       "      <td>row2</td>\n",
       "      <td>2</td>\n",
       "      <td>4</td>\n",
       "    </tr>\n",
       "  </tbody>\n",
       "</table>\n",
       "</div>"
      ],
      "text/plain": [
       "      name  age\n",
       "row1     1    3\n",
       "row2     2    4"
      ]
     },
     "execution_count": 30,
     "metadata": {},
     "output_type": "execute_result"
    }
   ],
   "source": [
    "s.head() # prints the top rows of the dataframe "
   ]
  },
  {
   "cell_type": "code",
   "execution_count": 31,
   "metadata": {},
   "outputs": [],
   "source": [
    "# coverting to file systems \n",
    "s.to_csv('simple_dataframe.csv')"
   ]
  },
  {
   "cell_type": "code",
   "execution_count": 34,
   "metadata": {},
   "outputs": [
    {
     "data": {
      "text/plain": [
       "pandas.core.series.Series"
      ]
     },
     "execution_count": 34,
     "metadata": {},
     "output_type": "execute_result"
    }
   ],
   "source": [
    "# accessing the elements in the dataframe \n",
    "## 1. loc 2. .iloc\n",
    "# loc -- focus only on rows\n",
    "# whereas iloc --- fouccs on rows as well as columns (index location)\n",
    "s.loc['row1']\n",
    "type(s.loc['row1']) # series contains one row or one column, where as dataframe should have atlest more tha one column and one row"
   ]
  },
  {
   "cell_type": "code",
   "execution_count": 40,
   "metadata": {},
   "outputs": [
    {
     "data": {
      "text/html": [
       "<div>\n",
       "<style scoped>\n",
       "    .dataframe tbody tr th:only-of-type {\n",
       "        vertical-align: middle;\n",
       "    }\n",
       "\n",
       "    .dataframe tbody tr th {\n",
       "        vertical-align: top;\n",
       "    }\n",
       "\n",
       "    .dataframe thead th {\n",
       "        text-align: right;\n",
       "    }\n",
       "</style>\n",
       "<table border=\"1\" class=\"dataframe\">\n",
       "  <thead>\n",
       "    <tr style=\"text-align: right;\">\n",
       "      <th></th>\n",
       "      <th>name</th>\n",
       "      <th>age</th>\n",
       "    </tr>\n",
       "  </thead>\n",
       "  <tbody>\n",
       "    <tr>\n",
       "      <td>row1</td>\n",
       "      <td>1</td>\n",
       "      <td>3</td>\n",
       "    </tr>\n",
       "  </tbody>\n",
       "</table>\n",
       "</div>"
      ],
      "text/plain": [
       "      name  age\n",
       "row1     1    3"
      ]
     },
     "execution_count": 40,
     "metadata": {},
     "output_type": "execute_result"
    }
   ],
   "source": [
    "s.iloc[:,:]# first(accessing rows) and second:(accessing column values) values # prints all the values in d0:1\n",
    "s.iloc[0:2,0:2]\n",
    "s.iloc[0:1,0:2]"
   ]
  },
  {
   "cell_type": "code",
   "execution_count": 43,
   "metadata": {},
   "outputs": [
    {
     "data": {
      "text/plain": [
       "array([[1, 3],\n",
       "       [2, 4]], dtype=int64)"
      ]
     },
     "execution_count": 43,
     "metadata": {},
     "output_type": "execute_result"
    }
   ],
   "source": [
    "# coverting dataframes to arrays\n",
    "#. values converts into arrays \n",
    "s.iloc[:,:].values"
   ]
  },
  {
   "cell_type": "code",
   "execution_count": 45,
   "metadata": {},
   "outputs": [
    {
     "data": {
      "text/plain": [
       "name    0\n",
       "age     0\n",
       "dtype: int64"
      ]
     },
     "execution_count": 45,
     "metadata": {},
     "output_type": "execute_result"
    }
   ],
   "source": [
    "# to checck null values \n",
    "s.isnull().sum()\n",
    "    "
   ]
  },
  {
   "cell_type": "code",
   "execution_count": 46,
   "metadata": {},
   "outputs": [],
   "source": [
    "# pandas read_operations \n",
    "data = pd.read_csv('camera_dataset.csv')\n"
   ]
  },
  {
   "cell_type": "code",
   "execution_count": 51,
   "metadata": {},
   "outputs": [
    {
     "data": {
      "text/plain": [
       "Model                      0\n",
       "Release date               0\n",
       "Max resolution             0\n",
       "Low resolution             0\n",
       "Effective pixels           0\n",
       "Zoom wide (W)              0\n",
       "Zoom tele (T)              0\n",
       "Normal focus range         0\n",
       "Macro focus range          1\n",
       "Storage included           2\n",
       "Weight (inc. batteries)    2\n",
       "Dimensions                 2\n",
       "Price                      0\n",
       "dtype: int64"
      ]
     },
     "execution_count": 51,
     "metadata": {},
     "output_type": "execute_result"
    }
   ],
   "source": [
    "data.head()\n",
    "data.columns\n",
    "data.isnull().sum()"
   ]
  },
  {
   "cell_type": "code",
   "execution_count": 52,
   "metadata": {},
   "outputs": [
    {
     "data": {
      "text/html": [
       "<div>\n",
       "<style scoped>\n",
       "    .dataframe tbody tr th:only-of-type {\n",
       "        vertical-align: middle;\n",
       "    }\n",
       "\n",
       "    .dataframe tbody tr th {\n",
       "        vertical-align: top;\n",
       "    }\n",
       "\n",
       "    .dataframe thead th {\n",
       "        text-align: right;\n",
       "    }\n",
       "</style>\n",
       "<table border=\"1\" class=\"dataframe\">\n",
       "  <thead>\n",
       "    <tr style=\"text-align: right;\">\n",
       "      <th></th>\n",
       "      <th>Release date</th>\n",
       "      <th>Max resolution</th>\n",
       "      <th>Low resolution</th>\n",
       "      <th>Effective pixels</th>\n",
       "      <th>Zoom wide (W)</th>\n",
       "      <th>Zoom tele (T)</th>\n",
       "      <th>Normal focus range</th>\n",
       "      <th>Macro focus range</th>\n",
       "      <th>Storage included</th>\n",
       "      <th>Weight (inc. batteries)</th>\n",
       "      <th>Dimensions</th>\n",
       "      <th>Price</th>\n",
       "    </tr>\n",
       "  </thead>\n",
       "  <tbody>\n",
       "    <tr>\n",
       "      <td>count</td>\n",
       "      <td>1038.000000</td>\n",
       "      <td>1038.000000</td>\n",
       "      <td>1038.000000</td>\n",
       "      <td>1038.000000</td>\n",
       "      <td>1038.000000</td>\n",
       "      <td>1038.000000</td>\n",
       "      <td>1038.000000</td>\n",
       "      <td>1037.000000</td>\n",
       "      <td>1036.000000</td>\n",
       "      <td>1036.000000</td>\n",
       "      <td>1036.000000</td>\n",
       "      <td>1038.000000</td>\n",
       "    </tr>\n",
       "    <tr>\n",
       "      <td>mean</td>\n",
       "      <td>2003.590559</td>\n",
       "      <td>2474.672447</td>\n",
       "      <td>1773.936416</td>\n",
       "      <td>4.596339</td>\n",
       "      <td>32.963391</td>\n",
       "      <td>121.525048</td>\n",
       "      <td>44.145472</td>\n",
       "      <td>7.787850</td>\n",
       "      <td>17.447876</td>\n",
       "      <td>319.265444</td>\n",
       "      <td>105.363417</td>\n",
       "      <td>457.384393</td>\n",
       "    </tr>\n",
       "    <tr>\n",
       "      <td>std</td>\n",
       "      <td>2.724755</td>\n",
       "      <td>759.513608</td>\n",
       "      <td>830.897955</td>\n",
       "      <td>2.844044</td>\n",
       "      <td>10.333149</td>\n",
       "      <td>93.455422</td>\n",
       "      <td>24.141959</td>\n",
       "      <td>8.100081</td>\n",
       "      <td>27.440655</td>\n",
       "      <td>260.410137</td>\n",
       "      <td>24.262761</td>\n",
       "      <td>760.452918</td>\n",
       "    </tr>\n",
       "    <tr>\n",
       "      <td>min</td>\n",
       "      <td>1994.000000</td>\n",
       "      <td>0.000000</td>\n",
       "      <td>0.000000</td>\n",
       "      <td>0.000000</td>\n",
       "      <td>0.000000</td>\n",
       "      <td>0.000000</td>\n",
       "      <td>0.000000</td>\n",
       "      <td>0.000000</td>\n",
       "      <td>0.000000</td>\n",
       "      <td>0.000000</td>\n",
       "      <td>0.000000</td>\n",
       "      <td>14.000000</td>\n",
       "    </tr>\n",
       "    <tr>\n",
       "      <td>25%</td>\n",
       "      <td>2002.000000</td>\n",
       "      <td>2048.000000</td>\n",
       "      <td>1120.000000</td>\n",
       "      <td>3.000000</td>\n",
       "      <td>35.000000</td>\n",
       "      <td>96.000000</td>\n",
       "      <td>30.000000</td>\n",
       "      <td>3.000000</td>\n",
       "      <td>8.000000</td>\n",
       "      <td>180.000000</td>\n",
       "      <td>92.000000</td>\n",
       "      <td>149.000000</td>\n",
       "    </tr>\n",
       "    <tr>\n",
       "      <td>50%</td>\n",
       "      <td>2004.000000</td>\n",
       "      <td>2560.000000</td>\n",
       "      <td>2048.000000</td>\n",
       "      <td>4.000000</td>\n",
       "      <td>36.000000</td>\n",
       "      <td>108.000000</td>\n",
       "      <td>50.000000</td>\n",
       "      <td>6.000000</td>\n",
       "      <td>16.000000</td>\n",
       "      <td>226.000000</td>\n",
       "      <td>101.000000</td>\n",
       "      <td>199.000000</td>\n",
       "    </tr>\n",
       "    <tr>\n",
       "      <td>75%</td>\n",
       "      <td>2006.000000</td>\n",
       "      <td>3072.000000</td>\n",
       "      <td>2560.000000</td>\n",
       "      <td>7.000000</td>\n",
       "      <td>38.000000</td>\n",
       "      <td>117.000000</td>\n",
       "      <td>60.000000</td>\n",
       "      <td>10.000000</td>\n",
       "      <td>20.000000</td>\n",
       "      <td>350.000000</td>\n",
       "      <td>115.000000</td>\n",
       "      <td>399.000000</td>\n",
       "    </tr>\n",
       "    <tr>\n",
       "      <td>max</td>\n",
       "      <td>2007.000000</td>\n",
       "      <td>5616.000000</td>\n",
       "      <td>4992.000000</td>\n",
       "      <td>21.000000</td>\n",
       "      <td>52.000000</td>\n",
       "      <td>518.000000</td>\n",
       "      <td>120.000000</td>\n",
       "      <td>85.000000</td>\n",
       "      <td>450.000000</td>\n",
       "      <td>1860.000000</td>\n",
       "      <td>240.000000</td>\n",
       "      <td>7999.000000</td>\n",
       "    </tr>\n",
       "  </tbody>\n",
       "</table>\n",
       "</div>"
      ],
      "text/plain": [
       "       Release date  Max resolution  Low resolution  Effective pixels  \\\n",
       "count   1038.000000     1038.000000     1038.000000       1038.000000   \n",
       "mean    2003.590559     2474.672447     1773.936416          4.596339   \n",
       "std        2.724755      759.513608      830.897955          2.844044   \n",
       "min     1994.000000        0.000000        0.000000          0.000000   \n",
       "25%     2002.000000     2048.000000     1120.000000          3.000000   \n",
       "50%     2004.000000     2560.000000     2048.000000          4.000000   \n",
       "75%     2006.000000     3072.000000     2560.000000          7.000000   \n",
       "max     2007.000000     5616.000000     4992.000000         21.000000   \n",
       "\n",
       "       Zoom wide (W)  Zoom tele (T)  Normal focus range  Macro focus range  \\\n",
       "count    1038.000000    1038.000000         1038.000000        1037.000000   \n",
       "mean       32.963391     121.525048           44.145472           7.787850   \n",
       "std        10.333149      93.455422           24.141959           8.100081   \n",
       "min         0.000000       0.000000            0.000000           0.000000   \n",
       "25%        35.000000      96.000000           30.000000           3.000000   \n",
       "50%        36.000000     108.000000           50.000000           6.000000   \n",
       "75%        38.000000     117.000000           60.000000          10.000000   \n",
       "max        52.000000     518.000000          120.000000          85.000000   \n",
       "\n",
       "       Storage included  Weight (inc. batteries)   Dimensions        Price  \n",
       "count       1036.000000              1036.000000  1036.000000  1038.000000  \n",
       "mean          17.447876               319.265444   105.363417   457.384393  \n",
       "std           27.440655               260.410137    24.262761   760.452918  \n",
       "min            0.000000                 0.000000     0.000000    14.000000  \n",
       "25%            8.000000               180.000000    92.000000   149.000000  \n",
       "50%           16.000000               226.000000   101.000000   199.000000  \n",
       "75%           20.000000               350.000000   115.000000   399.000000  \n",
       "max          450.000000              1860.000000   240.000000  7999.000000  "
      ]
     },
     "execution_count": 52,
     "metadata": {},
     "output_type": "execute_result"
    }
   ],
   "source": [
    "data.describe()# provides statistical info about the dataset , but includes only the int and float columns ,excludes object types"
   ]
  },
  {
   "cell_type": "code",
   "execution_count": 54,
   "metadata": {},
   "outputs": [
    {
     "data": {
      "text/plain": [
       "90.0     48\n",
       "91.0     47\n",
       "95.0     41\n",
       "100.0    38\n",
       "106.0    31\n",
       "         ..\n",
       "95.5      1\n",
       "240.0     1\n",
       "74.0      1\n",
       "73.0      1\n",
       "38.0      1\n",
       "Name: Dimensions, Length: 101, dtype: int64"
      ]
     },
     "execution_count": 54,
     "metadata": {},
     "output_type": "execute_result"
    }
   ],
   "source": [
    "data['Dimensions'].value_counts()"
   ]
  },
  {
   "cell_type": "code",
   "execution_count": 57,
   "metadata": {},
   "outputs": [],
   "source": [
    "#https://www.youtube.com/watch?v=tW1BWtQRZ2M"
   ]
  },
  {
   "cell_type": "code",
   "execution_count": 7,
   "metadata": {},
   "outputs": [],
   "source": [
    "# reading json files \n",
    "#JavaScript Object Notation\n",
    "jdon_data = '{\"name\":\"john\",\"age\":26,\"address\":\"phenoix,Arizona\",}'"
   ]
  },
  {
   "cell_type": "code",
   "execution_count": 18,
   "metadata": {},
   "outputs": [],
   "source": [
    "#to read_json \n",
    "import json\n",
    "a ={\"name\":\"John\", \n",
    "   \"age\":31, \n",
    "    \"Salary\":25000} \n",
    "b= json.dumps(a)"
   ]
  },
  {
   "cell_type": "code",
   "execution_count": 19,
   "metadata": {},
   "outputs": [
    {
     "data": {
      "text/plain": [
       "'{\"name\": \"John\", \"age\": 31, \"Salary\": 25000}'"
      ]
     },
     "execution_count": 19,
     "metadata": {},
     "output_type": "execute_result"
    }
   ],
   "source": [
    "b"
   ]
  },
  {
   "cell_type": "code",
   "execution_count": 27,
   "metadata": {},
   "outputs": [
    {
     "data": {
      "text/plain": [
       "pandas.core.frame.DataFrame"
      ]
     },
     "execution_count": 27,
     "metadata": {},
     "output_type": "execute_result"
    }
   ],
   "source": [
    "# to covert json tod dataframe\n",
    "from pandas.io.json import json_normalize\n",
    "data_load = json.loads(b)\n",
    "type(data_load)# converts to dict format and normalizes  to df\n",
    "type(json_normalize(data_load))# normalizesto dataframe "
   ]
  },
  {
   "cell_type": "code",
   "execution_count": 30,
   "metadata": {},
   "outputs": [
    {
     "data": {
      "text/plain": [
       "'{\"name\": \"John\", \"age\": 31, \"Salary\": 25000}'"
      ]
     },
     "execution_count": 30,
     "metadata": {},
     "output_type": "execute_result"
    }
   ],
   "source": [
    "# to convert json is done by dumps()\n",
    "btojson = json.dumps(data_load) \n",
    "btojson"
   ]
  },
  {
   "cell_type": "code",
   "execution_count": 31,
   "metadata": {},
   "outputs": [],
   "source": [
    "#serilaization nd deserialization in json \n",
    "# serialization : process of encoding to json format is nown as serialization\n",
    "# json lib in python uses dumps() to convert python ogjects to json format \n",
    "# dict:object,list,tuple:array,int,float:numbers,true/false:boolean,null:null"
   ]
  },
  {
   "cell_type": "code",
   "execution_count": 32,
   "metadata": {},
   "outputs": [],
   "source": [
    "var = {  \n",
    "      \"Subjects\": { \n",
    "                  \"Maths\":85, \n",
    "                  \"Physics\":90\n",
    "                   } \n",
    "      } "
   ]
  },
  {
   "cell_type": "code",
   "execution_count": 33,
   "metadata": {},
   "outputs": [
    {
     "data": {
      "text/plain": [
       "dict"
      ]
     },
     "execution_count": 33,
     "metadata": {},
     "output_type": "execute_result"
    }
   ],
   "source": [
    "type(var)"
   ]
  },
  {
   "cell_type": "code",
   "execution_count": 35,
   "metadata": {},
   "outputs": [],
   "source": [
    "var_serial = json.dumps(var) "
   ]
  },
  {
   "cell_type": "code",
   "execution_count": 37,
   "metadata": {},
   "outputs": [
    {
     "data": {
      "text/plain": [
       "str"
      ]
     },
     "execution_count": 37,
     "metadata": {},
     "output_type": "execute_result"
    }
   ],
   "source": [
    "type(var_serial)"
   ]
  },
  {
   "cell_type": "code",
   "execution_count": 39,
   "metadata": {},
   "outputs": [],
   "source": [
    "# deserialization of json\n",
    "# reverse of seriqalization in json\n",
    "var_deserial = json.loads(var_serial) "
   ]
  },
  {
   "cell_type": "code",
   "execution_count": 41,
   "metadata": {},
   "outputs": [
    {
     "data": {
      "text/plain": [
       "dict"
      ]
     },
     "execution_count": 41,
     "metadata": {},
     "output_type": "execute_result"
    }
   ],
   "source": [
    "type(var_deserial)"
   ]
  },
  {
   "cell_type": "code",
   "execution_count": 42,
   "metadata": {},
   "outputs": [],
   "source": [
    "# why and when do we go for serialization and deserialization of json\n",
    "# used to ssave the state of object wwhen its needed to recreate \n",
    "#use -- to transmit into series of bytes to store it into memory"
   ]
  },
  {
   "cell_type": "code",
   "execution_count": 44,
   "metadata": {},
   "outputs": [],
   "source": [
    "# difference between dumps() and dump()\n",
    "# https://stackoverflow.com/questions/36059194/what-is-the-difference-between-json-dump-and-json-dumps-in-python --- reference link"
   ]
  },
  {
   "cell_type": "code",
   "execution_count": 46,
   "metadata": {},
   "outputs": [],
   "source": [
    "#pickle - transfering over the netork\n",
    "# pickle are  used to store serialized object to file ,the file path represents pickled object structure path \n",
    "#Serialization refers to the process of converting an object in memory to a byte stream that can be stored on disk or sent over a network."
   ]
  },
  {
   "cell_type": "code",
   "execution_count": 47,
   "metadata": {},
   "outputs": [],
   "source": [
    "import pickle"
   ]
  },
  {
   "cell_type": "code",
   "execution_count": 48,
   "metadata": {},
   "outputs": [],
   "source": [
    "dogs_dict = { 'Ozzy': 3, 'Filou': 8, 'Luna': 5, 'Skippy': 10, 'Barco': 12, 'Balou': 9, 'Laika': 16 }"
   ]
  },
  {
   "cell_type": "code",
   "execution_count": 49,
   "metadata": {},
   "outputs": [],
   "source": [
    "filename = 'dogs'\n",
    "outfile = open(filename,'wb') # writing in binary code"
   ]
  },
  {
   "cell_type": "code",
   "execution_count": 50,
   "metadata": {},
   "outputs": [],
   "source": [
    "#pickling the files\n",
    "pickle.dump(dogs_dict,outfile)\n",
    "outfile.close()"
   ]
  },
  {
   "cell_type": "code",
   "execution_count": null,
   "metadata": {},
   "outputs": [],
   "source": [
    "#unpickling back to python code\n",
    "infile = open(filename,'rb')# reading in binary file \n",
    "new_dict = pickle.load(infile)\n",
    "infile.close()"
   ]
  }
 ],
 "metadata": {
  "kernelspec": {
   "display_name": "Python 3",
   "language": "python",
   "name": "python3"
  },
  "language_info": {
   "codemirror_mode": {
    "name": "ipython",
    "version": 3
   },
   "file_extension": ".py",
   "mimetype": "text/x-python",
   "name": "python",
   "nbconvert_exporter": "python",
   "pygments_lexer": "ipython3",
   "version": "3.7.4"
  }
 },
 "nbformat": 4,
 "nbformat_minor": 2
}
